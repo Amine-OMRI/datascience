{
 "cells": [
  {
   "cell_type": "markdown",
   "metadata": {},
   "source": [
    "<img src=\"https://qstom-it.com/wp-content/uploads/2019/04/logo.png\"/>"
   ]
  },
  {
   "cell_type": "markdown",
   "metadata": {},
   "source": [
    "<h1 align=\"center\">Analyse de l'évolution du Coronavirus 2019</h1>"
   ]
  },
  {
   "cell_type": "markdown",
   "metadata": {},
   "source": [
    "    Dernière mise à jour : 5 mars 2020"
   ]
  },
  {
   "cell_type": "markdown",
   "metadata": {},
   "source": [
    "Afin de mieux comprendre l'évolution de l'épidémie de coronavirus qui nous frappe actuellement, nous nous sommes procuré les données relatives à son évolution recensée jour par jour depuis le 22/01/2020 à travers le monde.  \n",
    "\n",
    "\n",
    "<b>Dans cet article, nous ne nous essaierons pas en la réalisation d'une prédiction sur son évolution</b>, mais nous réaliserons une simple analyse des données qui nous permettra d'apprécier la réalité des faits de cette épidémie."
   ]
  },
  {
   "cell_type": "markdown",
   "metadata": {},
   "source": [
    "## Import des données"
   ]
  },
  {
   "cell_type": "code",
   "execution_count": 318,
   "metadata": {},
   "outputs": [],
   "source": [
    "import pandas as pnd\n",
    "datas = pnd.read_csv('datas/covid_19_datas.csv')"
   ]
  },
  {
   "cell_type": "code",
   "execution_count": 319,
   "metadata": {},
   "outputs": [
    {
     "data": {
      "text/plain": [
       "(3395, 8)"
      ]
     },
     "execution_count": 319,
     "metadata": {},
     "output_type": "execute_result"
    }
   ],
   "source": [
    "#Nombre d'observations et de caractéristiques\n",
    "datas.shape"
   ]
  },
  {
   "cell_type": "markdown",
   "metadata": {},
   "source": [
    "## Première analyse et préparation des données"
   ]
  },
  {
   "cell_type": "code",
   "execution_count": 320,
   "metadata": {},
   "outputs": [
    {
     "data": {
      "text/plain": [
       "Index(['SNo', 'ObservationDate', 'Province/State', 'Country/Region',\n",
       "       'Last Update', 'Confirmed', 'Deaths', 'Recovered'],\n",
       "      dtype='object')"
      ]
     },
     "execution_count": 320,
     "metadata": {},
     "output_type": "execute_result"
    }
   ],
   "source": [
    "#Informations sur le nom des colonnes\n",
    "datas.columns"
   ]
  },
  {
   "cell_type": "code",
   "execution_count": 321,
   "metadata": {},
   "outputs": [
    {
     "data": {
      "text/html": [
       "<div>\n",
       "<style scoped>\n",
       "    .dataframe tbody tr th:only-of-type {\n",
       "        vertical-align: middle;\n",
       "    }\n",
       "\n",
       "    .dataframe tbody tr th {\n",
       "        vertical-align: top;\n",
       "    }\n",
       "\n",
       "    .dataframe thead th {\n",
       "        text-align: right;\n",
       "    }\n",
       "</style>\n",
       "<table border=\"1\" class=\"dataframe\">\n",
       "  <thead>\n",
       "    <tr style=\"text-align: right;\">\n",
       "      <th></th>\n",
       "      <th>SNo</th>\n",
       "      <th>ObservationDate</th>\n",
       "      <th>Province/State</th>\n",
       "      <th>Country/Region</th>\n",
       "      <th>Last Update</th>\n",
       "      <th>Confirmed</th>\n",
       "      <th>Deaths</th>\n",
       "      <th>Recovered</th>\n",
       "    </tr>\n",
       "  </thead>\n",
       "  <tbody>\n",
       "    <tr>\n",
       "      <td>0</td>\n",
       "      <td>1</td>\n",
       "      <td>01/22/2020</td>\n",
       "      <td>Anhui</td>\n",
       "      <td>Mainland China</td>\n",
       "      <td>1/22/2020 17:00</td>\n",
       "      <td>1.0</td>\n",
       "      <td>0.0</td>\n",
       "      <td>0.0</td>\n",
       "    </tr>\n",
       "    <tr>\n",
       "      <td>1</td>\n",
       "      <td>2</td>\n",
       "      <td>01/22/2020</td>\n",
       "      <td>Beijing</td>\n",
       "      <td>Mainland China</td>\n",
       "      <td>1/22/2020 17:00</td>\n",
       "      <td>14.0</td>\n",
       "      <td>0.0</td>\n",
       "      <td>0.0</td>\n",
       "    </tr>\n",
       "    <tr>\n",
       "      <td>2</td>\n",
       "      <td>3</td>\n",
       "      <td>01/22/2020</td>\n",
       "      <td>Chongqing</td>\n",
       "      <td>Mainland China</td>\n",
       "      <td>1/22/2020 17:00</td>\n",
       "      <td>6.0</td>\n",
       "      <td>0.0</td>\n",
       "      <td>0.0</td>\n",
       "    </tr>\n",
       "    <tr>\n",
       "      <td>3</td>\n",
       "      <td>4</td>\n",
       "      <td>01/22/2020</td>\n",
       "      <td>Fujian</td>\n",
       "      <td>Mainland China</td>\n",
       "      <td>1/22/2020 17:00</td>\n",
       "      <td>1.0</td>\n",
       "      <td>0.0</td>\n",
       "      <td>0.0</td>\n",
       "    </tr>\n",
       "    <tr>\n",
       "      <td>4</td>\n",
       "      <td>5</td>\n",
       "      <td>01/22/2020</td>\n",
       "      <td>Gansu</td>\n",
       "      <td>Mainland China</td>\n",
       "      <td>1/22/2020 17:00</td>\n",
       "      <td>0.0</td>\n",
       "      <td>0.0</td>\n",
       "      <td>0.0</td>\n",
       "    </tr>\n",
       "  </tbody>\n",
       "</table>\n",
       "</div>"
      ],
      "text/plain": [
       "   SNo ObservationDate Province/State  Country/Region      Last Update  \\\n",
       "0    1      01/22/2020          Anhui  Mainland China  1/22/2020 17:00   \n",
       "1    2      01/22/2020        Beijing  Mainland China  1/22/2020 17:00   \n",
       "2    3      01/22/2020      Chongqing  Mainland China  1/22/2020 17:00   \n",
       "3    4      01/22/2020         Fujian  Mainland China  1/22/2020 17:00   \n",
       "4    5      01/22/2020          Gansu  Mainland China  1/22/2020 17:00   \n",
       "\n",
       "   Confirmed  Deaths  Recovered  \n",
       "0        1.0     0.0        0.0  \n",
       "1       14.0     0.0        0.0  \n",
       "2        6.0     0.0        0.0  \n",
       "3        1.0     0.0        0.0  \n",
       "4        0.0     0.0        0.0  "
      ]
     },
     "execution_count": 321,
     "metadata": {},
     "output_type": "execute_result"
    }
   ],
   "source": [
    "#Affichage des 5 premières observations\n",
    "datas.head(5)"
   ]
  },
  {
   "cell_type": "code",
   "execution_count": 322,
   "metadata": {},
   "outputs": [
    {
     "data": {
      "text/html": [
       "<div>\n",
       "<style scoped>\n",
       "    .dataframe tbody tr th:only-of-type {\n",
       "        vertical-align: middle;\n",
       "    }\n",
       "\n",
       "    .dataframe tbody tr th {\n",
       "        vertical-align: top;\n",
       "    }\n",
       "\n",
       "    .dataframe thead th {\n",
       "        text-align: right;\n",
       "    }\n",
       "</style>\n",
       "<table border=\"1\" class=\"dataframe\">\n",
       "  <thead>\n",
       "    <tr style=\"text-align: right;\">\n",
       "      <th></th>\n",
       "      <th>SNo</th>\n",
       "      <th>ObservationDate</th>\n",
       "      <th>Province/State</th>\n",
       "      <th>Country/Region</th>\n",
       "      <th>Last Update</th>\n",
       "      <th>Confirmed</th>\n",
       "      <th>Deaths</th>\n",
       "      <th>Recovered</th>\n",
       "    </tr>\n",
       "  </thead>\n",
       "  <tbody>\n",
       "    <tr>\n",
       "      <td>3390</td>\n",
       "      <td>3391</td>\n",
       "      <td>03/04/2020</td>\n",
       "      <td>NaN</td>\n",
       "      <td>Ukraine</td>\n",
       "      <td>2020-03-03T15:33:02</td>\n",
       "      <td>1.0</td>\n",
       "      <td>0.0</td>\n",
       "      <td>0.0</td>\n",
       "    </tr>\n",
       "    <tr>\n",
       "      <td>3391</td>\n",
       "      <td>3392</td>\n",
       "      <td>03/04/2020</td>\n",
       "      <td>From Diamond Princess</td>\n",
       "      <td>Australia</td>\n",
       "      <td>2020-02-29T02:03:10</td>\n",
       "      <td>0.0</td>\n",
       "      <td>0.0</td>\n",
       "      <td>0.0</td>\n",
       "    </tr>\n",
       "    <tr>\n",
       "      <td>3392</td>\n",
       "      <td>3393</td>\n",
       "      <td>03/04/2020</td>\n",
       "      <td>Lackland, TX (From Diamond Princess)</td>\n",
       "      <td>US</td>\n",
       "      <td>2020-02-24T23:33:02</td>\n",
       "      <td>0.0</td>\n",
       "      <td>0.0</td>\n",
       "      <td>0.0</td>\n",
       "    </tr>\n",
       "    <tr>\n",
       "      <td>3393</td>\n",
       "      <td>3394</td>\n",
       "      <td>03/04/2020</td>\n",
       "      <td>Omaha, NE (From Diamond Princess)</td>\n",
       "      <td>US</td>\n",
       "      <td>2020-02-24T23:33:02</td>\n",
       "      <td>0.0</td>\n",
       "      <td>0.0</td>\n",
       "      <td>0.0</td>\n",
       "    </tr>\n",
       "    <tr>\n",
       "      <td>3394</td>\n",
       "      <td>3395</td>\n",
       "      <td>03/04/2020</td>\n",
       "      <td>Travis, CA (From Diamond Princess)</td>\n",
       "      <td>US</td>\n",
       "      <td>2020-02-24T23:33:02</td>\n",
       "      <td>0.0</td>\n",
       "      <td>0.0</td>\n",
       "      <td>0.0</td>\n",
       "    </tr>\n",
       "  </tbody>\n",
       "</table>\n",
       "</div>"
      ],
      "text/plain": [
       "       SNo ObservationDate                        Province/State  \\\n",
       "3390  3391      03/04/2020                                   NaN   \n",
       "3391  3392      03/04/2020                 From Diamond Princess   \n",
       "3392  3393      03/04/2020  Lackland, TX (From Diamond Princess)   \n",
       "3393  3394      03/04/2020     Omaha, NE (From Diamond Princess)   \n",
       "3394  3395      03/04/2020    Travis, CA (From Diamond Princess)   \n",
       "\n",
       "     Country/Region          Last Update  Confirmed  Deaths  Recovered  \n",
       "3390        Ukraine  2020-03-03T15:33:02        1.0     0.0        0.0  \n",
       "3391      Australia  2020-02-29T02:03:10        0.0     0.0        0.0  \n",
       "3392             US  2020-02-24T23:33:02        0.0     0.0        0.0  \n",
       "3393             US  2020-02-24T23:33:02        0.0     0.0        0.0  \n",
       "3394             US  2020-02-24T23:33:02        0.0     0.0        0.0  "
      ]
     },
     "execution_count": 322,
     "metadata": {},
     "output_type": "execute_result"
    }
   ],
   "source": [
    "#Affichage des 5 dernières observations\n",
    "datas.tail(5)"
   ]
  },
  {
   "cell_type": "code",
   "execution_count": 323,
   "metadata": {},
   "outputs": [
    {
     "name": "stdout",
     "output_type": "stream",
     "text": [
      "<class 'pandas.core.frame.DataFrame'>\n",
      "RangeIndex: 3395 entries, 0 to 3394\n",
      "Data columns (total 8 columns):\n",
      "SNo                3395 non-null int64\n",
      "ObservationDate    3395 non-null object\n",
      "Province/State     2264 non-null object\n",
      "Country/Region     3395 non-null object\n",
      "Last Update        3395 non-null object\n",
      "Confirmed          3395 non-null float64\n",
      "Deaths             3395 non-null float64\n",
      "Recovered          3395 non-null float64\n",
      "dtypes: float64(3), int64(1), object(4)\n",
      "memory usage: 212.3+ KB\n"
     ]
    }
   ],
   "source": [
    "#Informations sur les types de caractéristiques dont nous disposons\n",
    "datas.info()"
   ]
  },
  {
   "cell_type": "code",
   "execution_count": 324,
   "metadata": {},
   "outputs": [],
   "source": [
    "#On renomme certaines caracteristiques pour une facilité de manipulation ultérieure\n",
    "datas = datas.rename(columns={\"ObservationDate\": \"Date\", \"Province/State\": \"ProvinceState\",\"Country/Region\":\"Country\",\"Last Update\":\"LastUpdate\"})"
   ]
  },
  {
   "cell_type": "code",
   "execution_count": 329,
   "metadata": {},
   "outputs": [
    {
     "data": {
      "text/plain": [
       "SNo                 0\n",
       "Date                0\n",
       "ProvinceState    1131\n",
       "Country             0\n",
       "LastUpdate          0\n",
       "Confirmed           0\n",
       "Deaths              0\n",
       "Recovered           0\n",
       "dtype: int64"
      ]
     },
     "execution_count": 329,
     "metadata": {},
     "output_type": "execute_result"
    }
   ],
   "source": [
    "#Combien de données manquantes ?\n",
    "datas.isnull().sum()"
   ]
  },
  {
   "cell_type": "markdown",
   "metadata": {},
   "source": [
    "Certaines observations ne semblent pas posséder d'informations concernant la province ou l'état ce qui paraît logique car tous les pays n'ont pas de province ou d'état"
   ]
  },
  {
   "cell_type": "code",
   "execution_count": 330,
   "metadata": {},
   "outputs": [],
   "source": [
    "#Conversion de la feature Date au format Date\n",
    "datas['Date']= pnd.to_datetime(datas['Date']) "
   ]
  },
  {
   "cell_type": "code",
   "execution_count": 331,
   "metadata": {},
   "outputs": [
    {
     "name": "stdout",
     "output_type": "stream",
     "text": [
      "<class 'pandas.core.frame.DataFrame'>\n",
      "RangeIndex: 3395 entries, 0 to 3394\n",
      "Data columns (total 8 columns):\n",
      "SNo              3395 non-null int64\n",
      "Date             3395 non-null datetime64[ns]\n",
      "ProvinceState    2264 non-null object\n",
      "Country          3395 non-null object\n",
      "LastUpdate       3395 non-null object\n",
      "Confirmed        3395 non-null float64\n",
      "Deaths           3395 non-null float64\n",
      "Recovered        3395 non-null float64\n",
      "dtypes: datetime64[ns](1), float64(3), int64(1), object(3)\n",
      "memory usage: 212.3+ KB\n"
     ]
    }
   ],
   "source": [
    "#Type de caractéristiques\n",
    "datas.info()"
   ]
  },
  {
   "cell_type": "code",
   "execution_count": 332,
   "metadata": {},
   "outputs": [
    {
     "data": {
      "text/plain": [
       "array(['Mainland China', 'Hong Kong', 'Macau', 'Taiwan', 'US', 'Japan',\n",
       "       'Thailand', 'South Korea', 'Singapore', 'Philippines', 'Malaysia',\n",
       "       'Vietnam', 'Australia', 'Mexico', 'Brazil', 'Colombia', 'France',\n",
       "       'Nepal', 'Canada', 'Cambodia', 'Sri Lanka', 'Ivory Coast',\n",
       "       'Germany', 'Finland', 'United Arab Emirates', 'India', 'Italy',\n",
       "       'UK', 'Russia', 'Sweden', 'Spain', 'Belgium', 'Others', 'Egypt',\n",
       "       'Iran', 'Israel', 'Lebanon', 'Iraq', 'Oman', 'Afghanistan',\n",
       "       'Bahrain', 'Kuwait', 'Austria', 'Algeria', 'Croatia',\n",
       "       'Switzerland', 'Pakistan', 'Georgia', 'Greece', 'North Macedonia',\n",
       "       'Norway', 'Romania', 'Denmark', 'Estonia', 'Netherlands',\n",
       "       'San Marino', ' Azerbaijan', 'Belarus', 'Iceland', 'Lithuania',\n",
       "       'New Zealand', 'Nigeria', 'North Ireland', 'Ireland', 'Luxembourg',\n",
       "       'Monaco', 'Qatar', 'Ecuador', 'Azerbaijan', 'Czech Republic',\n",
       "       'Armenia', 'Dominican Republic', 'Indonesia', 'Portugal',\n",
       "       'Andorra', 'Latvia', 'Morocco', 'Saudi Arabia', 'Senegal',\n",
       "       'Argentina', 'Chile', 'Jordan', 'Ukraine', 'Saint Barthelemy',\n",
       "       'Hungary', 'Faroe Islands', 'Gibraltar', 'Liechtenstein', 'Poland',\n",
       "       'Tunisia'], dtype=object)"
      ]
     },
     "execution_count": 332,
     "metadata": {},
     "output_type": "execute_result"
    }
   ],
   "source": [
    "#Liste des pays\n",
    "datas[\"Country\"].unique()"
   ]
  },
  {
   "cell_type": "code",
   "execution_count": 333,
   "metadata": {},
   "outputs": [],
   "source": [
    "#On renomme le pays \"Mainland China\" en \"China\"\n",
    "datas = datas.replace('Mainland China', 'China')"
   ]
  },
  {
   "cell_type": "markdown",
   "metadata": {},
   "source": [
    "## Exploration des données"
   ]
  },
  {
   "cell_type": "code",
   "execution_count": 334,
   "metadata": {},
   "outputs": [
    {
     "data": {
      "text/plain": [
       "Timestamp('2020-01-22 00:00:00')"
      ]
     },
     "execution_count": 334,
     "metadata": {},
     "output_type": "execute_result"
    }
   ],
   "source": [
    "#Date minimale des observations\n",
    "datas[\"Date\"].min()"
   ]
  },
  {
   "cell_type": "code",
   "execution_count": 335,
   "metadata": {},
   "outputs": [
    {
     "data": {
      "text/plain": [
       "Timestamp('2020-03-04 00:00:00')"
      ]
     },
     "execution_count": 335,
     "metadata": {},
     "output_type": "execute_result"
    }
   ],
   "source": [
    "#Date maximale des observations\n",
    "datas[\"Date\"].max()"
   ]
  },
  {
   "cell_type": "code",
   "execution_count": 336,
   "metadata": {},
   "outputs": [],
   "source": [
    "#Pour connaitre le nombre de cas à la date maximale l'erreur serait de faire la somme de la colonne Confirmed, car il s'agit\n",
    "#d'une donnée cumulée chaque jour !\n",
    "#Il faut donc extraire les données à la date souhaitée et de réaliser ensuite les différents calculs\n",
    "\n",
    "#On extrait les données à la derniere date la plus récente\n",
    "datasDerniereDate = datas[datas['Date'] == max(datas['Date'])].reset_index()"
   ]
  },
  {
   "cell_type": "code",
   "execution_count": 337,
   "metadata": {},
   "outputs": [
    {
     "data": {
      "text/plain": [
       "array(['2020-01-22T00:00:00.000000000', '2020-01-23T00:00:00.000000000',\n",
       "       '2020-01-24T00:00:00.000000000', '2020-01-25T00:00:00.000000000',\n",
       "       '2020-01-26T00:00:00.000000000', '2020-01-27T00:00:00.000000000',\n",
       "       '2020-01-28T00:00:00.000000000', '2020-01-29T00:00:00.000000000',\n",
       "       '2020-01-30T00:00:00.000000000', '2020-01-31T00:00:00.000000000',\n",
       "       '2020-02-01T00:00:00.000000000', '2020-02-02T00:00:00.000000000',\n",
       "       '2020-02-03T00:00:00.000000000', '2020-02-04T00:00:00.000000000',\n",
       "       '2020-02-05T00:00:00.000000000', '2020-02-06T00:00:00.000000000',\n",
       "       '2020-02-07T00:00:00.000000000', '2020-02-08T00:00:00.000000000',\n",
       "       '2020-02-09T00:00:00.000000000', '2020-02-10T00:00:00.000000000',\n",
       "       '2020-02-11T00:00:00.000000000', '2020-02-12T00:00:00.000000000',\n",
       "       '2020-02-13T00:00:00.000000000', '2020-02-14T00:00:00.000000000',\n",
       "       '2020-02-15T00:00:00.000000000', '2020-02-16T00:00:00.000000000',\n",
       "       '2020-02-17T00:00:00.000000000', '2020-02-18T00:00:00.000000000',\n",
       "       '2020-02-19T00:00:00.000000000', '2020-02-20T00:00:00.000000000',\n",
       "       '2020-02-21T00:00:00.000000000', '2020-02-22T00:00:00.000000000',\n",
       "       '2020-02-23T00:00:00.000000000', '2020-02-24T00:00:00.000000000',\n",
       "       '2020-02-25T00:00:00.000000000', '2020-02-26T00:00:00.000000000',\n",
       "       '2020-02-27T00:00:00.000000000', '2020-02-28T00:00:00.000000000',\n",
       "       '2020-02-29T00:00:00.000000000', '2020-03-01T00:00:00.000000000',\n",
       "       '2020-03-02T00:00:00.000000000', '2020-03-03T00:00:00.000000000',\n",
       "       '2020-03-04T00:00:00.000000000'], dtype='datetime64[ns]')"
      ]
     },
     "execution_count": 337,
     "metadata": {},
     "output_type": "execute_result"
    }
   ],
   "source": [
    "#Frequence des relevés (on constate un relevé journalier)\n",
    "datas[\"Date\"].unique()"
   ]
  },
  {
   "cell_type": "markdown",
   "metadata": {},
   "source": [
    "### Informations au niveau mondial"
   ]
  },
  {
   "cell_type": "code",
   "execution_count": 338,
   "metadata": {},
   "outputs": [
    {
     "name": "stdout",
     "output_type": "stream",
     "text": [
      "NIVEAU MONDIAL EN DATE DU : 04/03/2020\n",
      "  Confirmes : 95124.0\n",
      "  Decedes : 3254.0\n",
      "  Gueris : 51171.0\n",
      "  Taux mortalité (%): 3.42\n"
     ]
    }
   ],
   "source": [
    "#MONDIAL = Combien de cas : confirmés ? décédés ? Guerris ?\n",
    "confirmes = datasDerniereDate[\"Confirmed\"].sum()\n",
    "decedes = datasDerniereDate[\"Deaths\"].sum()\n",
    "guerris = datasDerniereDate[\"Recovered\"].sum()\n",
    "\n",
    "print(\"NIVEAU MONDIAL EN DATE DU : \"+max(datas['Date']).strftime(\"%d/%m/%Y\"))\n",
    "print(\"  Confirmes : \"+str(confirmes))\n",
    "print(\"  Decedes : \"+str(decedes))\n",
    "print(\"  Gueris : \"+str(guerris))\n",
    "print(\"  Taux mortalité (%): \"+str(round((decedes/confirmes)*100,2)))\n"
   ]
  },
  {
   "cell_type": "markdown",
   "metadata": {},
   "source": [
    "### En Chine"
   ]
  },
  {
   "cell_type": "code",
   "execution_count": 339,
   "metadata": {},
   "outputs": [
    {
     "data": {
      "text/plain": [
       "Timestamp('2020-01-22 00:00:00')"
      ]
     },
     "execution_count": 339,
     "metadata": {},
     "output_type": "execute_result"
    }
   ],
   "source": [
    "#Date de début de l'épidémie en Chine\n",
    "datasChine = datas[datas['Country'] == 'China'].reset_index()\n",
    "dateDebutChine = min(datasChine['Date'])\n",
    "dateDebutChine"
   ]
  },
  {
   "cell_type": "code",
   "execution_count": 340,
   "metadata": {},
   "outputs": [
    {
     "name": "stdout",
     "output_type": "stream",
     "text": [
      "EN CHINE EN DATE DU : 04/03/2020\n",
      "  Confirmes : 80271.0\n",
      "  Decedes : 2981.0\n",
      "  Gueris : 49955.0\n",
      "  Taux mortalité (%): 3.71\n"
     ]
    }
   ],
   "source": [
    "#En Chine\n",
    "datasChine = datasDerniereDate[datasDerniereDate['Country']==\"China\"].reset_index()\n",
    "\n",
    "confirmes = datasChine[\"Confirmed\"].sum()\n",
    "decedes = datasChine[\"Deaths\"].sum()\n",
    "guerris = datasChine[\"Recovered\"].sum()\n",
    "\n",
    "print(\"EN CHINE EN DATE DU : \"+max(datas['Date']).strftime(\"%d/%m/%Y\"))\n",
    "print(\"  Confirmes : \"+str(confirmes))\n",
    "print(\"  Decedes : \"+str(decedes))\n",
    "print(\"  Gueris : \"+str(guerris))\n",
    "print(\"  Taux mortalité (%): \"+str(round((decedes/confirmes)*100,2)))"
   ]
  },
  {
   "cell_type": "code",
   "execution_count": 341,
   "metadata": {},
   "outputs": [
    {
     "data": {
      "image/png": "[encoded data removed]",
      "text/plain": [
       "<Figure size 960x240 with 1 Axes>"
      ]
     },
     "metadata": {},
     "output_type": "display_data"
    }
   ],
   "source": [
    "#Chronogramme de l'évolution de l'épidémie en chine\n",
    "\n",
    "#Représentation des différents cas\n",
    "#La courbe de mortalité semble plate, mais cela est dû à un nombre peu élevé de mortalité par rapport aux autres valeures ()\n",
    "\n",
    "#Groupement par date en réalisant la somme de chaque feature\n",
    "datasEvolutionChine = datas[datas['Country'] == 'China'].reset_index()\n",
    "datasEvolutionChine = datasEvolutionChine.groupby('Date')['Confirmed', 'Deaths', 'Recovered'].sum().reset_index()\n",
    "\n",
    "import matplotlib.pyplot as plt\n",
    "from pandas.plotting import register_matplotlib_converters\n",
    "register_matplotlib_converters()\n",
    "\n",
    "from matplotlib.pyplot import figure\n",
    "figure(num=None, figsize=(12, 3), dpi=80, facecolor='w', edgecolor='k')\n",
    "\n",
    "plt.plot(datasEvolutionChine['Date'],datasEvolutionChine['Confirmed'],color='black',label='Cas confirmés')\n",
    "plt.plot(datasEvolutionChine['Date'],datasEvolutionChine['Recovered'],color='green',label='Cas guerris')\n",
    "plt.plot(datasEvolutionChine['Date'],datasEvolutionChine['Deaths'],color='red',label='Cas décédés')\n",
    "plt.title('Evolution du coronavirus Covid-19 en Chine en date du '+max(datas['Date']).strftime(\"%d/%m/%Y\"))\n",
    "plt.ylabel('Nombre de cas')\n",
    "plt.xlabel('Dates')\n",
    "plt.legend()\n",
    "plt.show()\n"
   ]
  },
  {
   "cell_type": "markdown",
   "metadata": {},
   "source": [
    "### En France"
   ]
  },
  {
   "cell_type": "code",
   "execution_count": 342,
   "metadata": {},
   "outputs": [
    {
     "data": {
      "text/plain": [
       "Timestamp('2020-01-24 00:00:00')"
      ]
     },
     "execution_count": 342,
     "metadata": {},
     "output_type": "execute_result"
    }
   ],
   "source": [
    "#Date de début de l'épidémie en France\n",
    "datasFrance = datas[datas['Country'] == 'France'].reset_index()\n",
    "dateDebutFrance = min(datasFrance['Date'])\n",
    "dateDebutFrance"
   ]
  },
  {
   "cell_type": "code",
   "execution_count": 343,
   "metadata": {},
   "outputs": [
    {
     "name": "stdout",
     "output_type": "stream",
     "text": [
      "EN FRANCE EN DATE DU : 04/03/2020\n",
      "  Confirmes : 285.0\n",
      "  Decedes : 4.0\n",
      "  Gueris : 12.0\n",
      "  Taux mortalité (%): 1.4\n"
     ]
    }
   ],
   "source": [
    "#En France\n",
    "datasFrance = datasDerniereDate[datasDerniereDate['Country']==\"France\"].reset_index()\n",
    "\n",
    "confirmes = datasFrance[\"Confirmed\"].sum()\n",
    "decedes = datasFrance[\"Deaths\"].sum()\n",
    "guerris = datasFrance[\"Recovered\"].sum()\n",
    "\n",
    "print(\"EN FRANCE EN DATE DU : \"+max(datas['Date']).strftime(\"%d/%m/%Y\"))\n",
    "print(\"  Confirmes : \"+str(confirmes))\n",
    "print(\"  Decedes : \"+str(decedes))\n",
    "print(\"  Gueris : \"+str(guerris))\n",
    "print(\"  Taux mortalité (%): \"+str(round((decedes/confirmes)*100,2)))"
   ]
  },
  {
   "cell_type": "code",
   "execution_count": 344,
   "metadata": {},
   "outputs": [
    {
     "data": {
      "image/png": "[encoded data removed]",
      "text/plain": [
       "<Figure size 960x240 with 1 Axes>"
      ]
     },
     "metadata": {},
     "output_type": "display_data"
    }
   ],
   "source": [
    "#Chronogramme de l'évolution de l'épidémie en France\n",
    "#Représentation des différents cas\n",
    "\n",
    "#Groupement par date en réalisant la somme de chaque feature\n",
    "datasEvolutionFrance = datas[datas['Country'] == 'France'].reset_index()\n",
    "datasEvolutionFrance = datasEvolutionFrance.groupby('Date')['Confirmed', 'Deaths', 'Recovered'].sum().reset_index()\n",
    "\n",
    "import matplotlib.pyplot as plt\n",
    "from pandas.plotting import register_matplotlib_converters\n",
    "register_matplotlib_converters()\n",
    "\n",
    "from matplotlib.pyplot import figure\n",
    "figure(num=None, figsize=(12, 3), dpi=80, facecolor='w', edgecolor='k')\n",
    "\n",
    "plt.plot(datasEvolutionFrance['Date'],datasEvolutionFrance['Confirmed'],color='black',label='Cas confirmés')\n",
    "plt.plot(datasEvolutionFrance['Date'],datasEvolutionFrance['Recovered'],color='green',label='Cas guerris')\n",
    "plt.plot(datasEvolutionFrance['Date'],datasEvolutionFrance['Deaths'],color='red',label='Cas décédés')\n",
    "plt.title('Evolution du coronavirus Covid-19 en France en date du '+max(datas['Date']).strftime(\"%d/%m/%Y\"))\n",
    "plt.ylabel('Nombre de cas')\n",
    "plt.xlabel('Dates')\n",
    "plt.legend()\n",
    "plt.show()"
   ]
  },
  {
   "cell_type": "markdown",
   "metadata": {},
   "source": [
    "### En Italie"
   ]
  },
  {
   "cell_type": "code",
   "execution_count": 345,
   "metadata": {},
   "outputs": [
    {
     "data": {
      "text/plain": [
       "Timestamp('2020-01-31 00:00:00')"
      ]
     },
     "execution_count": 345,
     "metadata": {},
     "output_type": "execute_result"
    }
   ],
   "source": [
    "#Date de début de l'épidémie en Italie\n",
    "datasItalie = datas[datas['Country'] == 'Italy'].reset_index()\n",
    "dateDebutItaly = min(datasItalie['Date'])\n",
    "dateDebutItaly"
   ]
  },
  {
   "cell_type": "code",
   "execution_count": 346,
   "metadata": {},
   "outputs": [
    {
     "name": "stdout",
     "output_type": "stream",
     "text": [
      "EN ITALIE EN DATE DU : 04/03/2020\n",
      "  Confirmes : 3089.0\n",
      "  Decedes : 107.0\n",
      "  Gueris : 276.0\n",
      "  Taux mortalité (%): 3.46\n"
     ]
    }
   ],
   "source": [
    "#En Italie\n",
    "datasItalie = datasDerniereDate[datasDerniereDate['Country']==\"Italy\"].reset_index()\n",
    "\n",
    "confirmes = datasItalie[\"Confirmed\"].sum()\n",
    "decedes = datasItalie[\"Deaths\"].sum()\n",
    "guerris = datasItalie[\"Recovered\"].sum()\n",
    "\n",
    "print(\"EN ITALIE EN DATE DU : \"+max(datas['Date']).strftime(\"%d/%m/%Y\"))\n",
    "print(\"  Confirmes : \"+str(confirmes))\n",
    "print(\"  Decedes : \"+str(decedes))\n",
    "print(\"  Gueris : \"+str(guerris))\n",
    "print(\"  Taux mortalité (%): \"+str(round((decedes/confirmes)*100,2)))"
   ]
  },
  {
   "cell_type": "code",
   "execution_count": 347,
   "metadata": {},
   "outputs": [
    {
     "data": {
      "image/png": "[encoded data removed]",
      "text/plain": [
       "<Figure size 960x240 with 1 Axes>"
      ]
     },
     "metadata": {},
     "output_type": "display_data"
    }
   ],
   "source": [
    "#Chronogramme de l'évolution de l'épidémie en Italie\n",
    "\n",
    "#Groupement par date en réalisant la somme de chaque feature\n",
    "datasEvolutionItalie = datas[datas['Country'] == 'Italy'].reset_index()\n",
    "datasEvolutionItalie = datasEvolutionItalie.groupby('Date')['Confirmed', 'Deaths', 'Recovered'].sum().reset_index()\n",
    "\n",
    "import matplotlib.pyplot as plt\n",
    "from pandas.plotting import register_matplotlib_converters\n",
    "register_matplotlib_converters()\n",
    "\n",
    "from matplotlib.pyplot import figure\n",
    "figure(num=None, figsize=(12, 3), dpi=80, facecolor='w', edgecolor='k')\n",
    "\n",
    "plt.plot(datasEvolutionItalie['Date'],datasEvolutionItalie['Confirmed'],color='black',label='Cas confirmés')\n",
    "plt.plot(datasEvolutionItalie['Date'],datasEvolutionItalie['Recovered'],color='green',label='Cas guerris')\n",
    "plt.plot(datasEvolutionItalie['Date'],datasEvolutionItalie['Deaths'],color='red',label='Cas décédés')\n",
    "plt.title('Evolution du coronavirus Covid-19 en Italie en date du '+max(datas['Date']).strftime(\"%d/%m/%Y\"))\n",
    "plt.ylabel('Nombre de cas')\n",
    "plt.xlabel('Dates')\n",
    "plt.legend()\n",
    "plt.show()"
   ]
  },
  {
   "cell_type": "markdown",
   "metadata": {},
   "source": [
    "# Superposition des courbes d'évolutions par pays sur une période donnée"
   ]
  },
  {
   "cell_type": "markdown",
   "metadata": {},
   "source": [
    "## Cas confirmés"
   ]
  },
  {
   "cell_type": "code",
   "execution_count": 348,
   "metadata": {},
   "outputs": [
    {
     "data": {
      "text/plain": [
       "Timestamp('2020-01-22 00:00:00')"
      ]
     },
     "execution_count": 348,
     "metadata": {},
     "output_type": "execute_result"
    }
   ],
   "source": [
    "min(datas['Date'])"
   ]
  },
  {
   "cell_type": "code",
   "execution_count": 349,
   "metadata": {},
   "outputs": [],
   "source": [
    "#Date de début d'accroissement de l'épidémie pour chaque pays (obtenues via observations des données)\n",
    "#22/01/2020 pour la Chine passage (début des relevés)\n",
    "#25/02/2020 pour la France de 18 cas à 38 cas\n",
    "#21/02/2020 pour l'Italie de 3 cas à  20 cas\n",
    "import datetime\n",
    "\n",
    "#Création des dates de début\n",
    "dateDebutChine = datetime.datetime(2020, 1, 22)\n",
    "dateDebutFrance = datetime.datetime(2020, 2, 25)\n",
    "dateDebutItalie = datetime.datetime(2020 ,2, 21)\n",
    "\n",
    "#Comme la France a démarrée aprés la chine et l'italie, on calcul le nombre de jours d'observations en France\n",
    "nbjoursObservationsFrance = (max(datas['Date'])-dateDebutFrance).days\n",
    "\n",
    "#Calcul des dates de fin\n",
    "dateFinFrance = dateDebutFrance + datetime.timedelta(days=nbjoursObservationsFrance)\n",
    "dateFinChine = dateDebutChine + datetime.timedelta(days=nbjoursObservationsFrance)\n",
    "dateFinItalie = dateDebutItalie + datetime.timedelta(days=nbjoursObservationsFrance)\n",
    "\n"
   ]
  },
  {
   "cell_type": "code",
   "execution_count": 350,
   "metadata": {},
   "outputs": [],
   "source": [
    "#Extraction des données en Chine\n",
    "datasChine = datas[datas['Country'] == 'China'].reset_index()\n",
    "datasChine['Date'] = pnd.to_datetime(datasChine['Date']) \n",
    "filtre = (datasChine['Date'] > dateDebutChine) & (datasChine['Date'] <= dateFinChine)\n",
    "datasChine = datasChine.loc[filtre]\n",
    "datasEvolutionChine = datasChine.groupby('Date')['Confirmed', 'Deaths', 'Recovered'].sum().reset_index()\n",
    "\n",
    "#Extraction des données en Italie\n",
    "datasItalie = datas[datas['Country'] == 'Italy'].reset_index()\n",
    "datasItalie['Date'] = pnd.to_datetime(datasItalie['Date']) \n",
    "filtre = (datasItalie['Date'] > dateDebutItalie) & (datasItalie['Date'] <= dateFinItalie)\n",
    "datasItalie = datasItalie.loc[filtre]\n",
    "datasEvolutionItalie = datasItalie.groupby('Date')['Confirmed', 'Deaths', 'Recovered'].sum().reset_index()\n",
    "\n",
    "\n",
    "#Extraction des données en France\n",
    "datasFrance = datas[datas['Country'] == 'France'].reset_index()\n",
    "datasFrance['Date'] = pnd.to_datetime(datasFrance['Date']) \n",
    "filtre = (datasFrance['Date'] > dateDebutFrance) & (datasFrance['Date'] <= dateFinFrance)\n",
    "datasFrance = datasFrance.loc[filtre]\n",
    "datasEvolutionFrance = datasFrance.groupby('Date')['Confirmed', 'Deaths', 'Recovered'].sum().reset_index()\n"
   ]
  },
  {
   "cell_type": "code",
   "execution_count": 351,
   "metadata": {},
   "outputs": [
    {
     "data": {
      "image/png": "[encoded data removed]",
      "text/plain": [
       "<Figure size 960x240 with 1 Axes>"
      ]
     },
     "metadata": {},
     "output_type": "display_data"
    }
   ],
   "source": [
    "from matplotlib.pyplot import figure\n",
    "figure(num=None, figsize=(12, 3), dpi=80, facecolor='w', edgecolor='k')\n",
    "\n",
    "#Creation d'un tableau comportant le nombre de jours pour l'affichage sur le graphique\n",
    "jours = [i for i in range(nbjoursObservationsFrance)]\n",
    "\n",
    "plt.plot(jours,datasEvolutionChine['Confirmed'],color='black',label='Cas confirmés Chine')\n",
    "plt.plot(jours,datasEvolutionFrance['Confirmed'],color='blue',label='Cas confirmés France')\n",
    "plt.plot(jours,datasEvolutionItalie['Confirmed'],color='orange',label='Cas confirmés Italie')\n",
    "\n",
    "plt.title('Vitesse Evolution du Coronavirus')\n",
    "plt.ylabel('Nombre de cas')\n",
    "plt.xlabel('Dates')\n",
    "plt.legend()\n",
    "plt.show()\n"
   ]
  },
  {
   "cell_type": "markdown",
   "metadata": {},
   "source": [
    "On constate une évolution plus rapide du coronavirus en Italie qu'en France sur une même période de jours. Le jour de la date de départ a été choisie comme suit :  \n",
    "- 22/01/2020 Pour la Chine (date de début de l'épidémie)  \n",
    "- 25/02/2020 pour la France passant de 18 cas à 38 cas\n",
    "- 21/02/2020 pour l'Italie passant de 3 cas à  20 cas \n"
   ]
  },
  {
   "cell_type": "markdown",
   "metadata": {},
   "source": [
    "## Décès"
   ]
  },
  {
   "cell_type": "code",
   "execution_count": 354,
   "metadata": {},
   "outputs": [
    {
     "data": {
      "image/png": "[encoded data removed]",
      "text/plain": [
       "<Figure size 960x240 with 1 Axes>"
      ]
     },
     "metadata": {},
     "output_type": "display_data"
    }
   ],
   "source": [
    "from matplotlib.pyplot import figure\n",
    "figure(num=None, figsize=(12, 3), dpi=80, facecolor='w', edgecolor='k')\n",
    "\n",
    "#Creation d'un tableau comportant le nombre de jours pour l'affichage sur le graphique\n",
    "jours = [i for i in range(nbjoursObservationsFrance)]\n",
    "\n",
    "plt.plot(jours,datasEvolutionChine['Deaths'],color='black',label='Décès en Chine')\n",
    "plt.plot(jours,datasEvolutionFrance['Deaths'],color='blue',label='Décès en France')\n",
    "plt.plot(jours,datasEvolutionItalie['Deaths'],color='orange',label='Décès en Italie')\n",
    "\n",
    "plt.title('Nombre de décès')\n",
    "plt.ylabel('Nombre de cas')\n",
    "plt.xlabel('Dates')\n",
    "plt.legend()\n",
    "plt.show()"
   ]
  },
  {
   "cell_type": "markdown",
   "metadata": {},
   "source": [
    "# Conclusion en date du 05/03"
   ]
  },
  {
   "cell_type": "markdown",
   "metadata": {},
   "source": [
    "En date du 5 mars 2020, nous pouvons considérer que la France est entrée en phase épidémique avec une augmentation du nombre de cas significative.  \n",
    "Cependant son évolution est moins rapide que celle de l'Italie et encore moins que celle de la chine sur une même période.    \n",
    "On constate également un nombre moins important de décés sur la même période entre la France et l'Italie  \n",
    "A ce jour, le taux de mortalité en France est 1,4 %  inférieur à ceux de la Chine (3.71 %) et de l'Italie (3.44%)  \n",
    "\n"
   ]
  },
  {
   "cell_type": "code",
   "execution_count": null,
   "metadata": {},
   "outputs": [],
   "source": []
  }
 ],
 "metadata": {
  "kernelspec": {
   "display_name": "Python 3",
   "language": "python",
   "name": "python3"
  },
  "language_info": {
   "codemirror_mode": {
    "name": "ipython",
    "version": 3
   },
   "file_extension": ".py",
   "mimetype": "text/x-python",
   "name": "python",
   "nbconvert_exporter": "python",
   "pygments_lexer": "ipython3",
   "version": "3.7.4"
  }
 },
 "nbformat": 4,
 "nbformat_minor": 2
}
