{
 "cells": [
  {
   "cell_type": "markdown",
   "metadata": {},
   "source": [
    "<img src=\"https://qstom-it.com/wp-content/uploads/2019/04/logo.png\"/>"
   ]
  },
  {
   "cell_type": "markdown",
   "metadata": {},
   "source": [
    "<center><H1>UN ALGORITHME GENETIQUE POUR SAUVER LE PERE NOEL</H1></center>"
   ]
  },
  {
   "cell_type": "markdown",
   "metadata": {},
   "source": [
    "# Notre mission"
   ]
  },
  {
   "cell_type": "markdown",
   "metadata": {},
   "source": [
    "Cette année le Pere Noël rencontre un énorme problème.  \n",
    "Il a oublié le code secret de son coffre fort contenant la liste des cadeaux à distribuer !!  \n",
    "\n",
    "Notre mission va donc consister à trouver ce code secret afin qu'il puisse distribuer ses cadeaux à temps."
   ]
  },
  {
   "cell_type": "markdown",
   "metadata": {},
   "source": [
    "Le code secret à retrouver est \"<b>JoyeuXnoEl2019</b>\" et se trouve stocké dans la mémoire numérique du coffre fort."
   ]
  },
  {
   "cell_type": "markdown",
   "metadata": {},
   "source": [
    "Nous pouvons essayer de le trouver en cherchant toutes les combinaisons possibles. Le mot comportant 16 caractères dont des minuscules, des majuscules, des chiffres. Cela risque de prendre un certains temps avant d'y parvenir.\n",
    "  Il nous faut donc trouver une autre solution en faisant appel aux algorithmes génétiques."
   ]
  },
  {
   "cell_type": "markdown",
   "metadata": {},
   "source": [
    "# Les algorithmes génétiques"
   ]
  },
  {
   "cell_type": "markdown",
   "metadata": {},
   "source": [
    "Les algorithmes génétiques utilisent la notion de sélection naturelle (Darwin) et l'appliquent à une population de solutions potentielles au problème donné.  \n",
    "\n",
    "Imaginons le cas similaire à notre problème où le mot à trouver est \"CHAT\".\n",
    "\n",
    "La première étape va consister à créer une <b>population</b> d'<b>individus</b> composés de <b>gènes</b>  (Dans notre cas les gènes seront les lettres de l'alphabet ainsi que les chiffres de 1 à 9)\n",
    "\n",
    "CHAT comporte 4 lettres. Les individus vont donc comporter 4 gènes choisis au hasard :  \n",
    "Individu 1: C O Z P  \n",
    "Individu 2: O H 1 T    \n",
    "...  \n",
    "\n",
    "La seconde étape va être de calculer l'aptitude (fitness) de chaque individu.\n",
    "Dans notre cas 1 point est donné à chaque lettre correctement placée :  \n",
    "Individu 1: <b>C</b> O Z P = 1 points   \n",
    "Individu 2: O <b>H</b> 1 <b>T</b> = 2 points  \n",
    "\n",
    "Nous classons ensuite les individus par ordre décroissant d'aptitude :  \n",
    "Individu 2: O <b>H</b> 1 <b>T</b> = 2 points  \n",
    "Individu 1: <b>C</b> O Z P = 1 points    \n",
    "\n",
    "Vient la phase de <b>selection</b> d'individus parmis la population. Cette selection est composée d'élites et d'autres individus permettant d'assurer la diversité génétique.   \n",
    "Une fois la selection réalisée on procède aux <b>croisements</b> d'individus donnant alors naissance à des <b>enfants</b> afin de créer une nouvelle population\n",
    "\n",
    "Vient enfin la <b>mutation</b> génétique s'appliquant à certains enfants pour respecter le principe d'évolution.\n",
    "\n",
    "Ces phases étant réalisées plusieurs fois jusqu'à obtenir un résultat satisfaisant.\n",
    "\n",
    "L'ensemble de ces étapes sont détaillées dans le code qui suit. A noter que nous utilisons nos propres méthode de selection et de croisement afin de rendre l'explication plus simple. \n",
    "\n",
    "Attention, les algorithmes génétiques <b>ne sont pas des algorithmes d'apprentissage !</b> mais peuvent être utilisés dans le cas de l'intelligence artificielle notemment pour selectionner les neurones les plus performants dans le cadre du deep learning\n",
    "\n",
    "  "
   ]
  },
  {
   "cell_type": "markdown",
   "metadata": {},
   "source": [
    "# Résolution du problème"
   ]
  },
  {
   "cell_type": "markdown",
   "metadata": {},
   "source": [
    "Nous définissons tous les gènes qui composeront les individus et qui sont necessaires à la résolution de notre problème"
   ]
  },
  {
   "cell_type": "code",
   "execution_count": 198,
   "metadata": {},
   "outputs": [],
   "source": [
    "#Genes des individus\n",
    "GENES = \"abcdefgijklmnopqrstuvwxyzABCDEFGHIJKLMNOPQRSTUVWXYZ1234567890\"\n"
   ]
  },
  {
   "cell_type": "markdown",
   "metadata": {},
   "source": [
    "### Fonctions utiles"
   ]
  },
  {
   "cell_type": "markdown",
   "metadata": {},
   "source": [
    "Viennent ensuite les fonctions utiles à savoir :  \n",
    "- La génération aléatoire d'un gène\n",
    "- La génération d'un individu (composé de gènes choisi aléatoirement)\n",
    "- La génération de la population (composée d'individus)\n",
    "- Le calcul de l'aptitude d'un individu\n",
    "- Le classement des individus en fonction de leur aptitude\n",
    "- La manipulation génétique qui permettra d'engendrer de nouveaux individus et de résoudre notre problème"
   ]
  },
  {
   "cell_type": "code",
   "execution_count": 177,
   "metadata": {},
   "outputs": [],
   "source": [
    "#Les imports\n",
    "import random"
   ]
  },
  {
   "cell_type": "code",
   "execution_count": 178,
   "metadata": {},
   "outputs": [],
   "source": [
    "#Generation d'un gêne de façon aléatoire\n",
    "#Le gène est choisi parmis la liste de gènes définie précédemment\n",
    "def generationGene():\n",
    "    return random.choice(GENES)\n",
    "    "
   ]
  },
  {
   "cell_type": "code",
   "execution_count": 179,
   "metadata": {},
   "outputs": [
    {
     "data": {
      "text/plain": [
       "'a'"
      ]
     },
     "execution_count": 179,
     "metadata": {},
     "output_type": "execute_result"
    }
   ],
   "source": [
    "generationGene()"
   ]
  },
  {
   "cell_type": "code",
   "execution_count": 180,
   "metadata": {},
   "outputs": [],
   "source": [
    "#Generation d'un individu (Composé de gènes)\n",
    "#Le nombre de gène à générer est fonction de la taille du code secret\n",
    "def generationIndividu(codeSecret):\n",
    "    return [generationGene() for i in range(len(codeSecret))]"
   ]
  },
  {
   "cell_type": "code",
   "execution_count": 181,
   "metadata": {},
   "outputs": [
    {
     "data": {
      "text/plain": [
       "['N', 'b', 'a', 'k']"
      ]
     },
     "execution_count": 181,
     "metadata": {},
     "output_type": "execute_result"
    }
   ],
   "source": [
    "generationIndividu(\"test\")"
   ]
  },
  {
   "cell_type": "code",
   "execution_count": 182,
   "metadata": {},
   "outputs": [],
   "source": [
    "#Generation de la population (Composée d'individus)\n",
    "#Le nombre d'individus à générer est passé en paramètre\n",
    "def generationPopulation(nombreIndividus,codeSecret):\n",
    "    return [generationIndividu(codeSecret) for i in range(nombreIndividus)]"
   ]
  },
  {
   "cell_type": "code",
   "execution_count": 183,
   "metadata": {},
   "outputs": [
    {
     "name": "stdout",
     "output_type": "stream",
     "text": [
      "I:0 ['F', 'S', 'f', 'Y']\n",
      "I:1 ['F', 'K', 'o', 'S']\n",
      "I:2 ['B', 'T', 'p', 'S']\n",
      "I:3 ['T', 'a', 'v', 't']\n",
      "I:4 ['P', 'u', 'U', 'T']\n"
     ]
    }
   ],
   "source": [
    "population = generationPopulation(5,\"test\")\n",
    "\n",
    "#On affiche la population pour simple vérification\n",
    "i=0\n",
    "for individu in population:\n",
    "    print(\"I:\"+str(i)+\" \"+str(individu))\n",
    "    i = i+1"
   ]
  },
  {
   "cell_type": "code",
   "execution_count": 184,
   "metadata": {},
   "outputs": [],
   "source": [
    "#Calcul de l'aptitude d'un individu\n",
    "#On ajoute 1 point d'aptitude par lettre présente et bien placée dans l'ensemble des gènes de l'individu \n",
    "#par rapport au code secret\n",
    "def calculAptitude(individu,codeSecret):\n",
    "    aptitude = 0\n",
    "    for gene, gene_attendu in zip(individu,codeSecret):\n",
    "        if gene == gene_attendu:\n",
    "            aptitude = aptitude +1\n",
    "    return aptitude"
   ]
  },
  {
   "cell_type": "code",
   "execution_count": 185,
   "metadata": {},
   "outputs": [
    {
     "name": "stdout",
     "output_type": "stream",
     "text": [
      "['F', 'S', 'f', 'Y']\n"
     ]
    },
    {
     "data": {
      "text/plain": [
       "0"
      ]
     },
     "execution_count": 185,
     "metadata": {},
     "output_type": "execute_result"
    }
   ],
   "source": [
    "#Calcul de l'aptitude du premier individu\n",
    "#Combien de lettres sont elles bien placées ?\n",
    "print(population[0])\n",
    "calculAptitude(population[0],\"test\")"
   ]
  },
  {
   "cell_type": "code",
   "execution_count": 186,
   "metadata": {},
   "outputs": [],
   "source": [
    "#Classement des individus de la population par ordre décroissant d'aptitude\n",
    "#Ce classement inverse est réalisé à l'aide d'une fonction lambda\n",
    "#Le résultat est un tableau dont la première colonne contient l'individu et la seconde son aptitude.\n",
    "def classementIndividus(population,codeSecret):\n",
    "    classement_individus = []\n",
    "    for individu in population:\n",
    "        classement_individus.append((individu,calculAptitude(individu,codeSecret)))\n",
    "    return sorted(classement_individus, key=lambda x: x[1], reverse=True)"
   ]
  },
  {
   "cell_type": "code",
   "execution_count": 187,
   "metadata": {},
   "outputs": [
    {
     "name": "stdout",
     "output_type": "stream",
     "text": [
      "(['T', 'a', 'v', 't'], 1)\n",
      "(['F', 'S', 'f', 'Y'], 0)\n",
      "(['F', 'K', 'o', 'S'], 0)\n",
      "(['B', 'T', 'p', 'S'], 0)\n",
      "(['P', 'u', 'U', 'T'], 0)\n"
     ]
    }
   ],
   "source": [
    "classement = classementIndividus(population,\"test\")\n",
    "for individu in classement:\n",
    "    print(individu)"
   ]
  },
  {
   "cell_type": "markdown",
   "metadata": {},
   "source": [
    "# Manipulations génétiques"
   ]
  },
  {
   "cell_type": "markdown",
   "metadata": {},
   "source": [
    "Nous voici présent à la fonction qui va permettre de :\n",
    "- Selectionner les individus (ceux ayant une meilleure aptitude)\n",
    "- Croiser les individus de forte aptitude permettant de créer des enfants\n",
    "- Muter génétiquement les enfants comme cela se produit dans la nature"
   ]
  },
  {
   "cell_type": "code",
   "execution_count": 1,
   "metadata": {},
   "outputs": [],
   "source": [
    "def generationFuture(population,pourcentageElitisme,tauxMutation,codeSecret):\n",
    "    \n",
    "    #1: On classe les individus de la population passée en paramètre\n",
    "    classement_individus = classementIndividus(population,codeSecret)\n",
    "    \n",
    "   \n",
    "    #2: On crée 2 tableaux. L'un contenant l'individu gagnant, l'autre un tableau contenant les individus classés mais \n",
    "    #sans leur valeur d'aptitude\n",
    "    individu_gagnant = []\n",
    "    individus_classes = []\n",
    "    \n",
    "    #3: Parcours des individus\n",
    "    for individu, aptitude in classement_individus:\n",
    "    \n",
    "        #On stock l'individu sans son aptitude dans un nouveau tableau\n",
    "        individus_classes.append(individu)\n",
    "    \n",
    "        #Si l'aptitude est égale à la longueur du mot secret à trouver, cela signifie que nous avons trouvé la solution.\n",
    "        if aptitude==len(codeSecret):\n",
    "            individu_gagnant.append(individu)\n",
    "      \n",
    "        if individu_gagnant:\n",
    "            return population,individu_gagnant\n",
    "    \n",
    "    \n",
    "    \n",
    "    \n",
    "    #4: Selection des meilleurs individus (elites) devenant alors parents\n",
    "    #Leur nombre est fonction du pourcentage d'élites passé en paramètre\n",
    "    nombreElites = int(len(population)*pourcentageElitisme)\n",
    "    parents = individus_classes[:nombreElites] \n",
    "    \n",
    "\n",
    "    #5: On selectionne d'autres parents pour maintenir la diversité génétique\n",
    "    #Cette selection se fait au hasard\n",
    "    #Si la roulette sort une valeur inférieure à 0.05 alors on ajoute l'individus aux parents\n",
    "    for individu in individus_classes[nombreElites:]:\n",
    "        roulette = random.random()\n",
    "        if roulette < 0.05:\n",
    "            parents.append(individu)\n",
    "    \n",
    "   \n",
    "    #6: Croisement des parents pour créer une nouvelle génération\n",
    "    nombreDeParentsSelectionnes = len(parents)\n",
    "    nombreEnfantsSouhaites = len(population)-nombreDeParentsSelectionnes\n",
    "    \n",
    "    \n",
    "    #Le nombre de gènes du père sera égal à la longueur du code secret divisé par deux\n",
    "    nombreGenesPere = len(codeSecret)//2\n",
    "    \n",
    "    #Le nombre de gènes de la mère sera égal à la longueur du mot - le nombre de gène du père\n",
    "    nombreGenesMere = len(codeSecret)-nombreGenesPere\n",
    "    \n",
    "\n",
    "    #Tant que nous n'avons pas le nombre d'enfants souhaité,\n",
    "    #On choisi 2 parents au hasard\n",
    "    #On extrait les gènes du père en fonction du nombre déterminé précédemment\n",
    "    #On extrait les gènes de la mère en fonction du nombre déterminé précédemment\n",
    "    #On concatène les deux pour obtenir un enfant\n",
    "    enfants = []\n",
    "    while len(enfants) < nombreEnfantsSouhaites:\n",
    "        pere = random.choice(parents)\n",
    "        mere = random.choice(parents)\n",
    "        enfant = pere[:nombreGenesPere] + mere[nombreGenesMere:]\n",
    "        enfants.append(enfant)\n",
    "        \n",
    "    #Mutation génétique de certain enfants\n",
    "    #Cette mutation se fait aussi au hasard\n",
    "    #- Tant sur le choix de l'individu \n",
    "    #- Tant sur le gene à modifier\n",
    "    for enfant in enfants :\n",
    "        if random.random() < tauxMutation:\n",
    "            indexGene = int(random.random()*(len(codeSecret)))\n",
    "            enfant[indexGene] = generationGene()\n",
    "        \n",
    "    #Ajout des enfants à la liste des parents pour créer la population\n",
    "    parents.extend(enfants)\n",
    "    \n",
    "    \n",
    "    return parents,individu_gagnant\n",
    "    "
   ]
  },
  {
   "cell_type": "markdown",
   "metadata": {},
   "source": [
    "# Recherche de la solution"
   ]
  },
  {
   "cell_type": "code",
   "execution_count": 200,
   "metadata": {},
   "outputs": [
    {
     "name": "stdout",
     "output_type": "stream",
     "text": [
      "Solution trouvée :[['J', 'o', 'y', 'e', 'u', 'X', 'n', 'o', 'E', 'l', '2', '0', '1', '9']] Nb générations = 249\n"
     ]
    }
   ],
   "source": [
    "CODE = \"JoyeuXnoEl2019\"\n",
    "NOMBRE_INDIVIDUS = 100\n",
    "POURCENTAGE_ELITE = 0.20 \n",
    "TAUX_MUTATION =0.1\n",
    "\n",
    "#On définit un maximum de générations pour éviter une boucle infinie dans le cas où aucune solution n'est trouvée\n",
    "MAXIMUM_GENERATIONS = 10000\n",
    "\n",
    "#Generation d'une population initiale\n",
    "population = generationPopulation(NOMBRE_INDIVIDUS,CODE)\n",
    "\n",
    "#Execution de l'algorithme génétique\n",
    "i=0\n",
    "individu_gagnant = None\n",
    "\n",
    "while not individu_gagnant and i<MAXIMUM_GENERATIONS:\n",
    "    population, individu_gagnant = generationFuture(population,POURCENTAGE_ELITE,TAUX_MUTATION,CODE)\n",
    "    i = i+1\n",
    "    \n",
    "if individu_gagnant:\n",
    "    print(\"Solution trouvée :\"+str(individu_gagnant)+\" Nb générations = \"+str(i))\n",
    "else:\n",
    "    print(\"Pas de solution trouvée...\")\n",
    "    \n"
   ]
  },
  {
   "cell_type": "markdown",
   "metadata": {},
   "source": [
    "Par ce petit exemple, nous venons de découvrir le principe de fonctionnement des algorithmes génétiques. Bien entendu la forme présentée de l'algorithme est assez simple. Il existe en effet de nombreuses fonctions de selections et de croisements d'individus pour lesquelles nous aurons l'occasion de revenir en détail dans un exemple plus complet trés prochainement.  \n"
   ]
  },
  {
   "cell_type": "code",
   "execution_count": null,
   "metadata": {},
   "outputs": [],
   "source": []
  }
 ],
 "metadata": {
  "kernelspec": {
   "display_name": "Python 3",
   "language": "python",
   "name": "python3"
  },
  "language_info": {
   "codemirror_mode": {
    "name": "ipython",
    "version": 3
   },
   "file_extension": ".py",
   "mimetype": "text/x-python",
   "name": "python",
   "nbconvert_exporter": "python",
   "pygments_lexer": "ipython3",
   "version": "3.7.4"
  }
 },
 "nbformat": 4,
 "nbformat_minor": 2
}
